{
 "cells": [
  {
   "cell_type": "code",
   "execution_count": 1,
   "metadata": {},
   "outputs": [],
   "source": [
    "from os import listdir\n",
    "from os.path import isfile, join\n",
    "mypath = '../competition_configurations/'\n",
    "onlyfiles = [f for f in listdir(mypath) if isfile(join(mypath, f) and f.)]"
   ]
  },
  {
   "cell_type": "code",
   "execution_count": 5,
   "metadata": {},
   "outputs": [],
   "source": [
    "onlyfiles.sort()"
   ]
  },
  {
   "cell_type": "code",
   "execution_count": 8,
   "metadata": {},
   "outputs": [
    {
     "data": {
      "text/plain": [
       "['1-1-1.yml',\n",
       " '1-1-2.yml',\n",
       " '1-1-3.yml',\n",
       " '1-10-1.yml',\n",
       " '1-10-2.yml',\n",
       " '1-10-3.yml',\n",
       " '1-11-1.yml',\n",
       " '1-11-2.yml',\n",
       " '1-11-3.yml',\n",
       " '1-12-1.yml',\n",
       " '1-12-2.yml',\n",
       " '1-12-3.yml',\n",
       " '1-13-1.yml',\n",
       " '1-13-2.yml',\n",
       " '1-13-3.yml',\n",
       " '1-14-1.yml',\n",
       " '1-14-2.yml',\n",
       " '1-14-3.yml',\n",
       " '1-15-1.yml',\n",
       " '1-15-2.yml',\n",
       " '1-15-3.yml',\n",
       " '1-16-1.yml',\n",
       " '1-16-2.yml',\n",
       " '1-16-3.yml',\n",
       " '1-17-1.yml',\n",
       " '1-17-2.yml',\n",
       " '1-17-3.yml',\n",
       " '1-18-1.yml',\n",
       " '1-18-2.yml',\n",
       " '1-18-3.yml',\n",
       " '1-19-1.yml',\n",
       " '1-19-2.yml',\n",
       " '1-19-3.yml',\n",
       " '1-2-1.yml',\n",
       " '1-2-2.yml',\n",
       " '1-2-3.yml',\n",
       " '1-20-1.yml',\n",
       " '1-20-2.yml',\n",
       " '1-20-3.yml',\n",
       " '1-21-1.yml',\n",
       " '1-21-2.yml',\n",
       " '1-21-3.yml',\n",
       " '1-22-1.yml',\n",
       " '1-22-2.yml',\n",
       " '1-22-3.yml',\n",
       " '1-23-1.yml',\n",
       " '1-23-2.yml',\n",
       " '1-23-3.yml',\n",
       " '1-24-1.yml',\n",
       " '1-24-2.yml',\n",
       " '1-24-3.yml',\n",
       " '1-25-1.yml',\n",
       " '1-25-2.yml',\n",
       " '1-25-3.yml',\n",
       " '1-26-1.yml',\n",
       " '1-26-2.yml',\n",
       " '1-26-3.yml',\n",
       " '1-27-1.yml',\n",
       " '1-27-2.yml',\n",
       " '1-27-3.yml']"
      ]
     },
     "execution_count": 8,
     "metadata": {},
     "output_type": "execute_result"
    }
   ],
   "source": [
    "onlyfiles[:60]"
   ]
  },
  {
   "cell_type": "code",
   "execution_count": null,
   "metadata": {},
   "outputs": [],
   "source": []
  }
 ],
 "metadata": {
  "kernelspec": {
   "display_name": "Python 3",
   "language": "python",
   "name": "python3"
  },
  "language_info": {
   "codemirror_mode": {
    "name": "ipython",
    "version": 3
   },
   "file_extension": ".py",
   "mimetype": "text/x-python",
   "name": "python",
   "nbconvert_exporter": "python",
   "pygments_lexer": "ipython3",
   "version": "3.7.6"
  }
 },
 "nbformat": 4,
 "nbformat_minor": 4
}
