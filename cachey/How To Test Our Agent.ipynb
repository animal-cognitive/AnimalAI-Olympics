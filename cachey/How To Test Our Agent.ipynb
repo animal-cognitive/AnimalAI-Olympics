{
 "cells": [
  {
   "cell_type": "code",
   "execution_count": 1,
   "metadata": {},
   "outputs": [
    {
     "name": "stderr",
     "output_type": "stream",
     "text": [
      "WARNING:tensorflow:From /home/azibit/anaconda3/lib/python3.7/site-packages/tensorflow_core/python/compat/v2_compat.py:68: disable_resource_variables (from tensorflow.python.ops.variable_scope) is deprecated and will be removed in a future version.\n",
      "Instructions for updating:\n",
      "non-resource variables are not supported in the long term\n",
      "2021-04-08 18:41:24,874\tWARNING deprecation.py:34 -- DeprecationWarning: `ray.rllib.env.atari_wrappers....` has been deprecated. Use `ray.rllib.env.wrappers.atari_wrappers....` instead. This will raise an error in the future!\n"
     ]
    }
   ],
   "source": [
    "## Import All Needed Libraries\n",
    "\n",
    "import os\n",
    "import gym\n",
    "import ray\n",
    "from animalai.envs.arena_config import ArenaConfig\n",
    "from animalai.envs.gym.environment import AnimalAIGym\n",
    "from ray.rllib.agents import ppo\n",
    "\n",
    "from ray.tune import register_env, tune\n",
    "\n",
    "from ray.rllib.agents.ppo import PPOTrainer\n",
    "from ray.rllib.models import ModelCatalog\n",
    "from ray.tune.logger import pretty_print\n",
    "\n",
    "from cache_model import *\n",
    "from config import get_cfg\n",
    "# from custom_model import *"
   ]
  },
  {
   "cell_type": "code",
   "execution_count": 2,
   "metadata": {},
   "outputs": [],
   "source": [
    "## Reuse Wrapper for AnimalAI Environment\n",
    "\n",
    "class UnityEnvWrapper(gym.Env):\n",
    "    def __init__(self, env_config):\n",
    "        self.vector_index = env_config.vector_index\n",
    "        self.worker_index = env_config.worker_index\n",
    "        self.worker_id = env_config[\"unity_worker_id\"] + env_config.worker_index\n",
    "        self.env = AnimalAIGym(\n",
    "            environment_filename = \"../examples/env/AnimalAI\",\n",
    "            worker_id = self.worker_id,\n",
    "            flatten_branched = True,\n",
    "            uint8_visual = True,\n",
    "            arenas_configurations = ArenaConfig(env_config['arena_to_train'])\n",
    "        )\n",
    "        self.action_space = self.env.action_space\n",
    "        self.observation_space = self.env.observation_space\n",
    "        \n",
    "    def reset(self):\n",
    "        return self.env.reset()\n",
    "    \n",
    "    def step(self, action):\n",
    "        return self.env.step(action)"
   ]
  },
  {
   "cell_type": "code",
   "execution_count": 197,
   "metadata": {},
   "outputs": [],
   "source": [
    "## Setup configuration to use\n",
    "\n",
    "conf = {\n",
    "    \"num_workers\": 0,\n",
    "    \"env_config\": {\n",
    "        \"unity_worker_id\": 700,\n",
    "        \"arena_to_train\": '../examples/configurations/curriculum/0.yml'\n",
    "        },\n",
    "        \"model\": {\n",
    "            \"custom_model\": 'my_cnn_rnn_model',\n",
    "            \"custom_model_config\": {},\n",
    "        },\n",
    "        \"num_gpus\": int(os.environ.get(\"RLLIB_NUM_GPUS\", \"1\")),\n",
    "        \"num_workers\": 1,  # parallelism\n",
    "        \"framework\": \"torch\",\n",
    "        \"train_batch_size\": 500\n",
    "       }\n",
    "conf"
   ]
  },
  {
   "cell_type": "code",
   "execution_count": 198,
   "metadata": {},
   "outputs": [
    {
     "name": "stderr",
     "output_type": "stream",
     "text": [
      "2021-04-09 10:03:40,209\tINFO services.py:1174 -- View the Ray dashboard at \u001b[1m\u001b[32mhttp://127.0.0.1:8266\u001b[39m\u001b[22m\n"
     ]
    }
   ],
   "source": [
    "## Setup and register environment\n",
    "ray.shutdown()\n",
    "ray.init(num_gpus=2)\n",
    "\n",
    "ModelCatalog.register_custom_model(\"my_cnn_rnn_model\", MyCNNRNNModel)\n",
    "\n",
    "register_env(\"unity_env\", lambda config: UnityEnvWrapper(config))"
   ]
  },
  {
   "cell_type": "code",
   "execution_count": 199,
   "metadata": {
    "scrolled": true
   },
   "outputs": [
    {
     "name": "stderr",
     "output_type": "stream",
     "text": [
      "\u001b[2m\u001b[36m(pid=215806)\u001b[0m WARNING:tensorflow:From /home/azibit/anaconda3/lib/python3.7/site-packages/tensorflow_core/python/compat/v2_compat.py:68: disable_resource_variables (from tensorflow.python.ops.variable_scope) is deprecated and will be removed in a future version.\n",
      "\u001b[2m\u001b[36m(pid=215806)\u001b[0m Instructions for updating:\n",
      "\u001b[2m\u001b[36m(pid=215806)\u001b[0m non-resource variables are not supported in the long term\n",
      "\u001b[2m\u001b[36m(pid=215806)\u001b[0m WARNING:tensorflow:From /home/azibit/anaconda3/lib/python3.7/site-packages/tensorflow_core/python/compat/v2_compat.py:68: disable_resource_variables (from tensorflow.python.ops.variable_scope) is deprecated and will be removed in a future version.\n",
      "\u001b[2m\u001b[36m(pid=215806)\u001b[0m Instructions for updating:\n",
      "\u001b[2m\u001b[36m(pid=215806)\u001b[0m non-resource variables are not supported in the long term\n",
      "\u001b[2m\u001b[36m(pid=215806)\u001b[0m WARNING:tensorflow:From /home/azibit/anaconda3/lib/python3.7/site-packages/tensorflow_core/python/compat/v2_compat.py:68: disable_resource_variables (from tensorflow.python.ops.variable_scope) is deprecated and will be removed in a future version.\n",
      "\u001b[2m\u001b[36m(pid=215806)\u001b[0m Instructions for updating:\n",
      "\u001b[2m\u001b[36m(pid=215806)\u001b[0m non-resource variables are not supported in the long term\n",
      "\u001b[2m\u001b[36m(pid=215806)\u001b[0m WARNING:tensorflow:From /home/azibit/anaconda3/lib/python3.7/site-packages/tensorflow_core/python/compat/v2_compat.py:68: disable_resource_variables (from tensorflow.python.ops.variable_scope) is deprecated and will be removed in a future version.\n",
      "\u001b[2m\u001b[36m(pid=215806)\u001b[0m Instructions for updating:\n",
      "\u001b[2m\u001b[36m(pid=215806)\u001b[0m non-resource variables are not supported in the long term\n",
      "\u001b[2m\u001b[36m(pid=215809)\u001b[0m WARNING:tensorflow:From /home/azibit/anaconda3/lib/python3.7/site-packages/tensorflow_core/python/compat/v2_compat.py:68: disable_resource_variables (from tensorflow.python.ops.variable_scope) is deprecated and will be removed in a future version.\n",
      "\u001b[2m\u001b[36m(pid=215809)\u001b[0m Instructions for updating:\n",
      "\u001b[2m\u001b[36m(pid=215809)\u001b[0m non-resource variables are not supported in the long term\n",
      "\u001b[2m\u001b[36m(pid=215809)\u001b[0m WARNING:tensorflow:From /home/azibit/anaconda3/lib/python3.7/site-packages/tensorflow_core/python/compat/v2_compat.py:68: disable_resource_variables (from tensorflow.python.ops.variable_scope) is deprecated and will be removed in a future version.\n",
      "\u001b[2m\u001b[36m(pid=215809)\u001b[0m Instructions for updating:\n",
      "\u001b[2m\u001b[36m(pid=215809)\u001b[0m non-resource variables are not supported in the long term\n",
      "\u001b[2m\u001b[36m(pid=215809)\u001b[0m WARNING:tensorflow:From /home/azibit/anaconda3/lib/python3.7/site-packages/tensorflow_core/python/compat/v2_compat.py:68: disable_resource_variables (from tensorflow.python.ops.variable_scope) is deprecated and will be removed in a future version.\n",
      "\u001b[2m\u001b[36m(pid=215809)\u001b[0m Instructions for updating:\n",
      "\u001b[2m\u001b[36m(pid=215809)\u001b[0m non-resource variables are not supported in the long term\n",
      "\u001b[2m\u001b[36m(pid=215809)\u001b[0m WARNING:tensorflow:From /home/azibit/anaconda3/lib/python3.7/site-packages/tensorflow_core/python/compat/v2_compat.py:68: disable_resource_variables (from tensorflow.python.ops.variable_scope) is deprecated and will be removed in a future version.\n",
      "\u001b[2m\u001b[36m(pid=215809)\u001b[0m Instructions for updating:\n",
      "\u001b[2m\u001b[36m(pid=215809)\u001b[0m non-resource variables are not supported in the long term\n"
     ]
    },
    {
     "ename": "RayTaskError(KeyError)",
     "evalue": "\u001b[36mray::RolloutWorker.foreach_policy()\u001b[39m (pid=215809, ip=192.168.1.4)\n  File \"python/ray/_raylet.pyx\", line 439, in ray._raylet.execute_task\n  File \"python/ray/_raylet.pyx\", line 473, in ray._raylet.execute_task\n  File \"python/ray/_raylet.pyx\", line 476, in ray._raylet.execute_task\n  File \"python/ray/_raylet.pyx\", line 480, in ray._raylet.execute_task\n  File \"python/ray/_raylet.pyx\", line 432, in ray._raylet.execute_task.function_executor\n  File \"/home/azibit/anaconda3/lib/python3.7/site-packages/ray/rllib/evaluation/rollout_worker.py\", line 378, in __init__\n    self.env = _validate_env(env_creator(env_context))\n  File \"<ipython-input-198-9949d0c48b1f>\", line 11, in <lambda>\n  File \"<ipython-input-2-ad30242afc60>\", line 7, in __init__\nKeyError: 'unity_worker_id'",
     "output_type": "error",
     "traceback": [
      "\u001b[0;31m---------------------------------------------------------------------------\u001b[0m",
      "\u001b[0;31mRayTaskError(KeyError)\u001b[0m                    Traceback (most recent call last)",
      "\u001b[0;32m<ipython-input-199-2d52c6371919>\u001b[0m in \u001b[0;36m<module>\u001b[0;34m\u001b[0m\n\u001b[0;32m----> 1\u001b[0;31m \u001b[0mtrainer\u001b[0m \u001b[0;34m=\u001b[0m \u001b[0mPPOTrainer\u001b[0m\u001b[0;34m(\u001b[0m\u001b[0mconfig\u001b[0m\u001b[0;34m=\u001b[0m\u001b[0mcongigure\u001b[0m\u001b[0;34m,\u001b[0m \u001b[0menv\u001b[0m\u001b[0;34m=\u001b[0m \u001b[0;34m\"unity_env\"\u001b[0m\u001b[0;34m)\u001b[0m\u001b[0;34m\u001b[0m\u001b[0;34m\u001b[0m\u001b[0m\n\u001b[0m\u001b[1;32m      2\u001b[0m \u001b[0;31m# trainer.restore('/home/azibit/ray_results/PPO_unity_env_2021-04-08_16-48-575mk5ga4m/checkpoint_500/checkpoint-500')\u001b[0m\u001b[0;34m\u001b[0m\u001b[0;34m\u001b[0m\u001b[0;34m\u001b[0m\u001b[0m\n\u001b[1;32m      3\u001b[0m \u001b[0mtrainer\u001b[0m\u001b[0;34m.\u001b[0m\u001b[0mrestore\u001b[0m\u001b[0;34m(\u001b[0m\u001b[0;34m'/home/azibit/ray_results/PPO_unity_env_2021-04-09_02-16-38lwq8v0v4/checkpoint_3500/checkpoint-3500'\u001b[0m\u001b[0;34m)\u001b[0m\u001b[0;34m\u001b[0m\u001b[0;34m\u001b[0m\u001b[0m\n",
      "\u001b[0;32m~/anaconda3/lib/python3.7/site-packages/ray/rllib/agents/trainer_template.py\u001b[0m in \u001b[0;36m__init__\u001b[0;34m(self, config, env, logger_creator)\u001b[0m\n\u001b[1;32m    105\u001b[0m \u001b[0;34m\u001b[0m\u001b[0m\n\u001b[1;32m    106\u001b[0m         \u001b[0;32mdef\u001b[0m \u001b[0m__init__\u001b[0m\u001b[0;34m(\u001b[0m\u001b[0mself\u001b[0m\u001b[0;34m,\u001b[0m \u001b[0mconfig\u001b[0m\u001b[0;34m=\u001b[0m\u001b[0;32mNone\u001b[0m\u001b[0;34m,\u001b[0m \u001b[0menv\u001b[0m\u001b[0;34m=\u001b[0m\u001b[0;32mNone\u001b[0m\u001b[0;34m,\u001b[0m \u001b[0mlogger_creator\u001b[0m\u001b[0;34m=\u001b[0m\u001b[0;32mNone\u001b[0m\u001b[0;34m)\u001b[0m\u001b[0;34m:\u001b[0m\u001b[0;34m\u001b[0m\u001b[0;34m\u001b[0m\u001b[0m\n\u001b[0;32m--> 107\u001b[0;31m             \u001b[0mTrainer\u001b[0m\u001b[0;34m.\u001b[0m\u001b[0m__init__\u001b[0m\u001b[0;34m(\u001b[0m\u001b[0mself\u001b[0m\u001b[0;34m,\u001b[0m \u001b[0mconfig\u001b[0m\u001b[0;34m,\u001b[0m \u001b[0menv\u001b[0m\u001b[0;34m,\u001b[0m \u001b[0mlogger_creator\u001b[0m\u001b[0;34m)\u001b[0m\u001b[0;34m\u001b[0m\u001b[0;34m\u001b[0m\u001b[0m\n\u001b[0m\u001b[1;32m    108\u001b[0m \u001b[0;34m\u001b[0m\u001b[0m\n\u001b[1;32m    109\u001b[0m         def _init(self, config: TrainerConfigDict,\n",
      "\u001b[0;32m~/anaconda3/lib/python3.7/site-packages/ray/rllib/agents/trainer.py\u001b[0m in \u001b[0;36m__init__\u001b[0;34m(self, config, env, logger_creator)\u001b[0m\n\u001b[1;32m    484\u001b[0m             \u001b[0mlogger_creator\u001b[0m \u001b[0;34m=\u001b[0m \u001b[0mdefault_logger_creator\u001b[0m\u001b[0;34m\u001b[0m\u001b[0;34m\u001b[0m\u001b[0m\n\u001b[1;32m    485\u001b[0m \u001b[0;34m\u001b[0m\u001b[0m\n\u001b[0;32m--> 486\u001b[0;31m         \u001b[0msuper\u001b[0m\u001b[0;34m(\u001b[0m\u001b[0;34m)\u001b[0m\u001b[0;34m.\u001b[0m\u001b[0m__init__\u001b[0m\u001b[0;34m(\u001b[0m\u001b[0mconfig\u001b[0m\u001b[0;34m,\u001b[0m \u001b[0mlogger_creator\u001b[0m\u001b[0;34m)\u001b[0m\u001b[0;34m\u001b[0m\u001b[0;34m\u001b[0m\u001b[0m\n\u001b[0m\u001b[1;32m    487\u001b[0m \u001b[0;34m\u001b[0m\u001b[0m\n\u001b[1;32m    488\u001b[0m     \u001b[0;34m@\u001b[0m\u001b[0mclassmethod\u001b[0m\u001b[0;34m\u001b[0m\u001b[0;34m\u001b[0m\u001b[0m\n",
      "\u001b[0;32m~/anaconda3/lib/python3.7/site-packages/ray/tune/trainable.py\u001b[0m in \u001b[0;36m__init__\u001b[0;34m(self, config, logger_creator)\u001b[0m\n\u001b[1;32m     95\u001b[0m \u001b[0;34m\u001b[0m\u001b[0m\n\u001b[1;32m     96\u001b[0m         \u001b[0mstart_time\u001b[0m \u001b[0;34m=\u001b[0m \u001b[0mtime\u001b[0m\u001b[0;34m.\u001b[0m\u001b[0mtime\u001b[0m\u001b[0;34m(\u001b[0m\u001b[0;34m)\u001b[0m\u001b[0;34m\u001b[0m\u001b[0;34m\u001b[0m\u001b[0m\n\u001b[0;32m---> 97\u001b[0;31m         \u001b[0mself\u001b[0m\u001b[0;34m.\u001b[0m\u001b[0msetup\u001b[0m\u001b[0;34m(\u001b[0m\u001b[0mcopy\u001b[0m\u001b[0;34m.\u001b[0m\u001b[0mdeepcopy\u001b[0m\u001b[0;34m(\u001b[0m\u001b[0mself\u001b[0m\u001b[0;34m.\u001b[0m\u001b[0mconfig\u001b[0m\u001b[0;34m)\u001b[0m\u001b[0;34m)\u001b[0m\u001b[0;34m\u001b[0m\u001b[0;34m\u001b[0m\u001b[0m\n\u001b[0m\u001b[1;32m     98\u001b[0m         \u001b[0msetup_time\u001b[0m \u001b[0;34m=\u001b[0m \u001b[0mtime\u001b[0m\u001b[0;34m.\u001b[0m\u001b[0mtime\u001b[0m\u001b[0;34m(\u001b[0m\u001b[0;34m)\u001b[0m \u001b[0;34m-\u001b[0m \u001b[0mstart_time\u001b[0m\u001b[0;34m\u001b[0m\u001b[0;34m\u001b[0m\u001b[0m\n\u001b[1;32m     99\u001b[0m         \u001b[0;32mif\u001b[0m \u001b[0msetup_time\u001b[0m \u001b[0;34m>\u001b[0m \u001b[0mSETUP_TIME_THRESHOLD\u001b[0m\u001b[0;34m:\u001b[0m\u001b[0;34m\u001b[0m\u001b[0;34m\u001b[0m\u001b[0m\n",
      "\u001b[0;32m~/anaconda3/lib/python3.7/site-packages/ray/rllib/agents/trainer.py\u001b[0m in \u001b[0;36msetup\u001b[0;34m(self, config)\u001b[0m\n\u001b[1;32m    652\u001b[0m \u001b[0;34m\u001b[0m\u001b[0m\n\u001b[1;32m    653\u001b[0m         \u001b[0;32mwith\u001b[0m \u001b[0mget_scope\u001b[0m\u001b[0;34m(\u001b[0m\u001b[0;34m)\u001b[0m\u001b[0;34m:\u001b[0m\u001b[0;34m\u001b[0m\u001b[0;34m\u001b[0m\u001b[0m\n\u001b[0;32m--> 654\u001b[0;31m             \u001b[0mself\u001b[0m\u001b[0;34m.\u001b[0m\u001b[0m_init\u001b[0m\u001b[0;34m(\u001b[0m\u001b[0mself\u001b[0m\u001b[0;34m.\u001b[0m\u001b[0mconfig\u001b[0m\u001b[0;34m,\u001b[0m \u001b[0mself\u001b[0m\u001b[0;34m.\u001b[0m\u001b[0menv_creator\u001b[0m\u001b[0;34m)\u001b[0m\u001b[0;34m\u001b[0m\u001b[0;34m\u001b[0m\u001b[0m\n\u001b[0m\u001b[1;32m    655\u001b[0m \u001b[0;34m\u001b[0m\u001b[0m\n\u001b[1;32m    656\u001b[0m             \u001b[0;31m# Evaluation setup.\u001b[0m\u001b[0;34m\u001b[0m\u001b[0;34m\u001b[0m\u001b[0;34m\u001b[0m\u001b[0m\n",
      "\u001b[0;32m~/anaconda3/lib/python3.7/site-packages/ray/rllib/agents/trainer_template.py\u001b[0m in \u001b[0;36m_init\u001b[0;34m(self, config, env_creator)\u001b[0m\n\u001b[1;32m    137\u001b[0m                 \u001b[0mpolicy_class\u001b[0m\u001b[0;34m=\u001b[0m\u001b[0mself\u001b[0m\u001b[0;34m.\u001b[0m\u001b[0m_policy_class\u001b[0m\u001b[0;34m,\u001b[0m\u001b[0;34m\u001b[0m\u001b[0;34m\u001b[0m\u001b[0m\n\u001b[1;32m    138\u001b[0m                 \u001b[0mconfig\u001b[0m\u001b[0;34m=\u001b[0m\u001b[0mconfig\u001b[0m\u001b[0;34m,\u001b[0m\u001b[0;34m\u001b[0m\u001b[0;34m\u001b[0m\u001b[0m\n\u001b[0;32m--> 139\u001b[0;31m                 num_workers=self.config[\"num_workers\"])\n\u001b[0m\u001b[1;32m    140\u001b[0m             \u001b[0mself\u001b[0m\u001b[0;34m.\u001b[0m\u001b[0mexecution_plan\u001b[0m \u001b[0;34m=\u001b[0m \u001b[0mexecution_plan\u001b[0m\u001b[0;34m\u001b[0m\u001b[0;34m\u001b[0m\u001b[0m\n\u001b[1;32m    141\u001b[0m             \u001b[0mself\u001b[0m\u001b[0;34m.\u001b[0m\u001b[0mtrain_exec_impl\u001b[0m \u001b[0;34m=\u001b[0m \u001b[0mexecution_plan\u001b[0m\u001b[0;34m(\u001b[0m\u001b[0mself\u001b[0m\u001b[0;34m.\u001b[0m\u001b[0mworkers\u001b[0m\u001b[0;34m,\u001b[0m \u001b[0mconfig\u001b[0m\u001b[0;34m)\u001b[0m\u001b[0;34m\u001b[0m\u001b[0;34m\u001b[0m\u001b[0m\n",
      "\u001b[0;32m~/anaconda3/lib/python3.7/site-packages/ray/rllib/agents/trainer.py\u001b[0m in \u001b[0;36m_make_workers\u001b[0;34m(self, env_creator, validate_env, policy_class, config, num_workers)\u001b[0m\n\u001b[1;32m    729\u001b[0m             \u001b[0mtrainer_config\u001b[0m\u001b[0;34m=\u001b[0m\u001b[0mconfig\u001b[0m\u001b[0;34m,\u001b[0m\u001b[0;34m\u001b[0m\u001b[0;34m\u001b[0m\u001b[0m\n\u001b[1;32m    730\u001b[0m             \u001b[0mnum_workers\u001b[0m\u001b[0;34m=\u001b[0m\u001b[0mnum_workers\u001b[0m\u001b[0;34m,\u001b[0m\u001b[0;34m\u001b[0m\u001b[0;34m\u001b[0m\u001b[0m\n\u001b[0;32m--> 731\u001b[0;31m             logdir=self.logdir)\n\u001b[0m\u001b[1;32m    732\u001b[0m \u001b[0;34m\u001b[0m\u001b[0m\n\u001b[1;32m    733\u001b[0m     \u001b[0;34m@\u001b[0m\u001b[0mDeveloperAPI\u001b[0m\u001b[0;34m\u001b[0m\u001b[0;34m\u001b[0m\u001b[0m\n",
      "\u001b[0;32m~/anaconda3/lib/python3.7/site-packages/ray/rllib/evaluation/worker_set.py\u001b[0m in \u001b[0;36m__init__\u001b[0;34m(self, env_creator, validate_env, policy_class, trainer_config, num_workers, logdir, _setup)\u001b[0m\n\u001b[1;32m     79\u001b[0m                 remote_spaces = ray.get(self.remote_workers(\n\u001b[1;32m     80\u001b[0m                 \u001b[0;34m)\u001b[0m\u001b[0;34m[\u001b[0m\u001b[0;36m0\u001b[0m\u001b[0;34m]\u001b[0m\u001b[0;34m.\u001b[0m\u001b[0mforeach_policy\u001b[0m\u001b[0;34m.\u001b[0m\u001b[0mremote\u001b[0m\u001b[0;34m(\u001b[0m\u001b[0;34m\u001b[0m\u001b[0;34m\u001b[0m\u001b[0m\n\u001b[0;32m---> 81\u001b[0;31m                     lambda p, pid: (pid, p.observation_space, p.action_space)))\n\u001b[0m\u001b[1;32m     82\u001b[0m                 spaces = {\n\u001b[1;32m     83\u001b[0m                     \u001b[0me\u001b[0m\u001b[0;34m[\u001b[0m\u001b[0;36m0\u001b[0m\u001b[0;34m]\u001b[0m\u001b[0;34m:\u001b[0m \u001b[0;34m(\u001b[0m\u001b[0mgetattr\u001b[0m\u001b[0;34m(\u001b[0m\u001b[0me\u001b[0m\u001b[0;34m[\u001b[0m\u001b[0;36m1\u001b[0m\u001b[0;34m]\u001b[0m\u001b[0;34m,\u001b[0m \u001b[0;34m\"original_space\"\u001b[0m\u001b[0;34m,\u001b[0m \u001b[0me\u001b[0m\u001b[0;34m[\u001b[0m\u001b[0;36m1\u001b[0m\u001b[0;34m]\u001b[0m\u001b[0;34m)\u001b[0m\u001b[0;34m,\u001b[0m \u001b[0me\u001b[0m\u001b[0;34m[\u001b[0m\u001b[0;36m2\u001b[0m\u001b[0;34m]\u001b[0m\u001b[0;34m)\u001b[0m\u001b[0;34m\u001b[0m\u001b[0;34m\u001b[0m\u001b[0m\n",
      "\u001b[0;32m~/anaconda3/lib/python3.7/site-packages/ray/_private/client_mode_hook.py\u001b[0m in \u001b[0;36mwrapper\u001b[0;34m(*args, **kwargs)\u001b[0m\n\u001b[1;32m     45\u001b[0m         \u001b[0;32mif\u001b[0m \u001b[0mclient_mode_enabled\u001b[0m \u001b[0;32mand\u001b[0m \u001b[0m_client_hook_enabled\u001b[0m\u001b[0;34m:\u001b[0m\u001b[0;34m\u001b[0m\u001b[0;34m\u001b[0m\u001b[0m\n\u001b[1;32m     46\u001b[0m             \u001b[0;32mreturn\u001b[0m \u001b[0mgetattr\u001b[0m\u001b[0;34m(\u001b[0m\u001b[0mray\u001b[0m\u001b[0;34m,\u001b[0m \u001b[0mfunc\u001b[0m\u001b[0;34m.\u001b[0m\u001b[0m__name__\u001b[0m\u001b[0;34m)\u001b[0m\u001b[0;34m(\u001b[0m\u001b[0;34m*\u001b[0m\u001b[0margs\u001b[0m\u001b[0;34m,\u001b[0m \u001b[0;34m**\u001b[0m\u001b[0mkwargs\u001b[0m\u001b[0;34m)\u001b[0m\u001b[0;34m\u001b[0m\u001b[0;34m\u001b[0m\u001b[0m\n\u001b[0;32m---> 47\u001b[0;31m         \u001b[0;32mreturn\u001b[0m \u001b[0mfunc\u001b[0m\u001b[0;34m(\u001b[0m\u001b[0;34m*\u001b[0m\u001b[0margs\u001b[0m\u001b[0;34m,\u001b[0m \u001b[0;34m**\u001b[0m\u001b[0mkwargs\u001b[0m\u001b[0;34m)\u001b[0m\u001b[0;34m\u001b[0m\u001b[0;34m\u001b[0m\u001b[0m\n\u001b[0m\u001b[1;32m     48\u001b[0m \u001b[0;34m\u001b[0m\u001b[0m\n\u001b[1;32m     49\u001b[0m     \u001b[0;32mreturn\u001b[0m \u001b[0mwrapper\u001b[0m\u001b[0;34m\u001b[0m\u001b[0;34m\u001b[0m\u001b[0m\n",
      "\u001b[0;32m~/anaconda3/lib/python3.7/site-packages/ray/worker.py\u001b[0m in \u001b[0;36mget\u001b[0;34m(object_refs, timeout)\u001b[0m\n\u001b[1;32m   1454\u001b[0m                     \u001b[0mworker\u001b[0m\u001b[0;34m.\u001b[0m\u001b[0mcore_worker\u001b[0m\u001b[0;34m.\u001b[0m\u001b[0mdump_object_store_memory_usage\u001b[0m\u001b[0;34m(\u001b[0m\u001b[0;34m)\u001b[0m\u001b[0;34m\u001b[0m\u001b[0;34m\u001b[0m\u001b[0m\n\u001b[1;32m   1455\u001b[0m                 \u001b[0;32mif\u001b[0m \u001b[0misinstance\u001b[0m\u001b[0;34m(\u001b[0m\u001b[0mvalue\u001b[0m\u001b[0;34m,\u001b[0m \u001b[0mRayTaskError\u001b[0m\u001b[0;34m)\u001b[0m\u001b[0;34m:\u001b[0m\u001b[0;34m\u001b[0m\u001b[0;34m\u001b[0m\u001b[0m\n\u001b[0;32m-> 1456\u001b[0;31m                     \u001b[0;32mraise\u001b[0m \u001b[0mvalue\u001b[0m\u001b[0;34m.\u001b[0m\u001b[0mas_instanceof_cause\u001b[0m\u001b[0;34m(\u001b[0m\u001b[0;34m)\u001b[0m\u001b[0;34m\u001b[0m\u001b[0;34m\u001b[0m\u001b[0m\n\u001b[0m\u001b[1;32m   1457\u001b[0m                 \u001b[0;32melse\u001b[0m\u001b[0;34m:\u001b[0m\u001b[0;34m\u001b[0m\u001b[0;34m\u001b[0m\u001b[0m\n\u001b[1;32m   1458\u001b[0m                     \u001b[0;32mraise\u001b[0m \u001b[0mvalue\u001b[0m\u001b[0;34m\u001b[0m\u001b[0;34m\u001b[0m\u001b[0m\n",
      "\u001b[0;31mRayTaskError(KeyError)\u001b[0m: \u001b[36mray::RolloutWorker.foreach_policy()\u001b[39m (pid=215809, ip=192.168.1.4)\n  File \"python/ray/_raylet.pyx\", line 439, in ray._raylet.execute_task\n  File \"python/ray/_raylet.pyx\", line 473, in ray._raylet.execute_task\n  File \"python/ray/_raylet.pyx\", line 476, in ray._raylet.execute_task\n  File \"python/ray/_raylet.pyx\", line 480, in ray._raylet.execute_task\n  File \"python/ray/_raylet.pyx\", line 432, in ray._raylet.execute_task.function_executor\n  File \"/home/azibit/anaconda3/lib/python3.7/site-packages/ray/rllib/evaluation/rollout_worker.py\", line 378, in __init__\n    self.env = _validate_env(env_creator(env_context))\n  File \"<ipython-input-198-9949d0c48b1f>\", line 11, in <lambda>\n  File \"<ipython-input-2-ad30242afc60>\", line 7, in __init__\nKeyError: 'unity_worker_id'"
     ]
    },
    {
     "name": "stderr",
     "output_type": "stream",
     "text": [
      "2021-04-11 19:21:53,886\tWARNING worker.py:1107 -- The node with node id b6ff03ce948e9d132ee27a11270b5b42f08e3bdd878aae204a061012 has been marked dead because the detector has missed too many heartbeats from it. This can happen when a raylet crashes unexpectedly or has lagging heartbeats.\n",
      "\u001b[2m\u001b[33m(raylet)\u001b[0m [2021-04-11 19:21:53,918 C 215778 215778] node_manager.cc:718:  Check failed: node_id != self_node_id_ Exiting because this node manager has mistakenly been marked dead by the monitor: GCS didn't receive heartbeats within timeout 30000 ms. This is likely since the machine or raylet became overloaded.\n",
      "\u001b[2m\u001b[33m(raylet)\u001b[0m [2021-04-11 19:21:53,920 E 215778 215778] logging.cc:415: *** Aborted at 1618186913 (unix time) try \"date -d @1618186913\" if you are using GNU date ***\n",
      "\u001b[2m\u001b[33m(raylet)\u001b[0m [2021-04-11 19:21:53,918 C 215778 215778] node_manager.cc:718:  Check failed: node_id != self_node_id_ Exiting because this node manager has mistakenly been marked dead by the monitor: GCS didn't receive heartbeats within timeout 30000 ms. This is likely since the machine or raylet became overloaded.\n",
      "\u001b[2m\u001b[33m(raylet)\u001b[0m [2021-04-11 19:21:53,920 E 215778 215778] logging.cc:415: *** Aborted at 1618186913 (unix time) try \"date -d @1618186913\" if you are using GNU date ***\n",
      "\u001b[2m\u001b[33m(raylet)\u001b[0m [2021-04-11 19:21:53,918 C 215778 215778] node_manager.cc:718:  Check failed: node_id != self_node_id_ Exiting because this node manager has mistakenly been marked dead by the monitor: GCS didn't receive heartbeats within timeout 30000 ms. This is likely since the machine or raylet became overloaded.\n",
      "\u001b[2m\u001b[33m(raylet)\u001b[0m [2021-04-11 19:21:53,920 E 215778 215778] logging.cc:415: *** Aborted at 1618186913 (unix time) try \"date -d @1618186913\" if you are using GNU date ***\n",
      "\u001b[2m\u001b[33m(raylet)\u001b[0m [2021-04-11 19:21:53,918 C 215778 215778] node_manager.cc:718:  Check failed: node_id != self_node_id_ Exiting because this node manager has mistakenly been marked dead by the monitor: GCS didn't receive heartbeats within timeout 30000 ms. This is likely since the machine or raylet became overloaded.\n",
      "\u001b[2m\u001b[33m(raylet)\u001b[0m [2021-04-11 19:21:53,920 E 215778 215778] logging.cc:415: *** Aborted at 1618186913 (unix time) try \"date -d @1618186913\" if you are using GNU date ***\n",
      "\u001b[2m\u001b[33m(raylet)\u001b[0m [2021-04-11 19:21:53,938 E 215778 215778] logging.cc:415: PC: @                0x0 (unknown)\n",
      "\u001b[2m\u001b[33m(raylet)\u001b[0m [2021-04-11 19:21:53,938 E 215778 215778] logging.cc:415: PC: @                0x0 (unknown)\n",
      "\u001b[2m\u001b[33m(raylet)\u001b[0m [2021-04-11 19:21:53,938 E 215778 215778] logging.cc:415: PC: @                0x0 (unknown)\n",
      "\u001b[2m\u001b[33m(raylet)\u001b[0m [2021-04-11 19:21:53,938 E 215778 215778] logging.cc:415: PC: @                0x0 (unknown)\n",
      "\u001b[2m\u001b[33m(raylet)\u001b[0m [2021-04-11 19:21:53,990 E 215778 215778] logging.cc:415: *** SIGABRT (@0x3e800034ae2) received by PID 215778 (TID 0x7f758abbe800) from PID 215778; stack trace: ***\n",
      "\u001b[2m\u001b[33m(raylet)\u001b[0m [2021-04-11 19:21:53,990 E 215778 215778] logging.cc:415: *** SIGABRT (@0x3e800034ae2) received by PID 215778 (TID 0x7f758abbe800) from PID 215778; stack trace: ***\n",
      "\u001b[2m\u001b[33m(raylet)\u001b[0m [2021-04-11 19:21:53,990 E 215778 215778] logging.cc:415: *** SIGABRT (@0x3e800034ae2) received by PID 215778 (TID 0x7f758abbe800) from PID 215778; stack trace: ***\n",
      "\u001b[2m\u001b[33m(raylet)\u001b[0m [2021-04-11 19:21:53,990 E 215778 215778] logging.cc:415: *** SIGABRT (@0x3e800034ae2) received by PID 215778 (TID 0x7f758abbe800) from PID 215778; stack trace: ***\n",
      "\u001b[2m\u001b[33m(raylet)\u001b[0m [2021-04-11 19:21:54,044 E 215778 215778] logging.cc:415:     @     0x56309b7f19ef google::(anonymous namespace)::FailureSignalHandler()\n",
      "\u001b[2m\u001b[33m(raylet)\u001b[0m [2021-04-11 19:21:54,056 E 215778 215778] logging.cc:415:     @     0x7f758b1203c0 (unknown)\n",
      "\u001b[2m\u001b[33m(raylet)\u001b[0m [2021-04-11 19:21:54,062 E 215778 215778] logging.cc:415:     @     0x7f758ac0918b gsignal\n",
      "\u001b[2m\u001b[33m(raylet)\u001b[0m [2021-04-11 19:21:54,062 E 215778 215778] logging.cc:415:     @     0x7f758abe8859 abort\n",
      "\u001b[2m\u001b[33m(raylet)\u001b[0m [2021-04-11 19:21:54,063 E 215778 215778] logging.cc:415:     @     0x56309b38fe9c _ZN3ray6RayLogD2Ev.cold\n",
      "\u001b[2m\u001b[33m(raylet)\u001b[0m [2021-04-11 19:21:54,044 E 215778 215778] logging.cc:415:     @     0x56309b7f19ef google::(anonymous namespace)::FailureSignalHandler()\n",
      "\u001b[2m\u001b[33m(raylet)\u001b[0m [2021-04-11 19:21:54,056 E 215778 215778] logging.cc:415:     @     0x7f758b1203c0 (unknown)\n",
      "\u001b[2m\u001b[33m(raylet)\u001b[0m [2021-04-11 19:21:54,062 E 215778 215778] logging.cc:415:     @     0x7f758ac0918b gsignal\n",
      "\u001b[2m\u001b[33m(raylet)\u001b[0m [2021-04-11 19:21:54,062 E 215778 215778] logging.cc:415:     @     0x7f758abe8859 abort\n",
      "\u001b[2m\u001b[33m(raylet)\u001b[0m [2021-04-11 19:21:54,063 E 215778 215778] logging.cc:415:     @     0x56309b38fe9c _ZN3ray6RayLogD2Ev.cold\n",
      "\u001b[2m\u001b[33m(raylet)\u001b[0m [2021-04-11 19:21:54,044 E 215778 215778] logging.cc:415:     @     0x56309b7f19ef google::(anonymous namespace)::FailureSignalHandler()\n",
      "\u001b[2m\u001b[33m(raylet)\u001b[0m [2021-04-11 19:21:54,056 E 215778 215778] logging.cc:415:     @     0x7f758b1203c0 (unknown)\n",
      "\u001b[2m\u001b[33m(raylet)\u001b[0m [2021-04-11 19:21:54,062 E 215778 215778] logging.cc:415:     @     0x7f758ac0918b gsignal\n",
      "\u001b[2m\u001b[33m(raylet)\u001b[0m [2021-04-11 19:21:54,062 E 215778 215778] logging.cc:415:     @     0x7f758abe8859 abort\n",
      "\u001b[2m\u001b[33m(raylet)\u001b[0m [2021-04-11 19:21:54,063 E 215778 215778] logging.cc:415:     @     0x56309b38fe9c _ZN3ray6RayLogD2Ev.cold\n",
      "\u001b[2m\u001b[33m(raylet)\u001b[0m [2021-04-11 19:21:54,044 E 215778 215778] logging.cc:415:     @     0x56309b7f19ef google::(anonymous namespace)::FailureSignalHandler()\n",
      "\u001b[2m\u001b[33m(raylet)\u001b[0m [2021-04-11 19:21:54,056 E 215778 215778] logging.cc:415:     @     0x7f758b1203c0 (unknown)\n",
      "\u001b[2m\u001b[33m(raylet)\u001b[0m [2021-04-11 19:21:54,062 E 215778 215778] logging.cc:415:     @     0x7f758ac0918b gsignal\n",
      "\u001b[2m\u001b[33m(raylet)\u001b[0m [2021-04-11 19:21:54,062 E 215778 215778] logging.cc:415:     @     0x7f758abe8859 abort\n",
      "\u001b[2m\u001b[33m(raylet)\u001b[0m [2021-04-11 19:21:54,063 E 215778 215778] logging.cc:415:     @     0x56309b38fe9c _ZN3ray6RayLogD2Ev.cold\n",
      "\u001b[2m\u001b[33m(raylet)\u001b[0m [2021-04-11 19:21:54,081 E 215778 215778] logging.cc:415:     @     0x56309b46602d ray::raylet::NodeManager::NodeRemoved()\n",
      "\u001b[2m\u001b[33m(raylet)\u001b[0m [2021-04-11 19:21:54,081 E 215778 215778] logging.cc:415:     @     0x56309b46602d ray::raylet::NodeManager::NodeRemoved()\n",
      "\u001b[2m\u001b[33m(raylet)\u001b[0m [2021-04-11 19:21:54,081 E 215778 215778] logging.cc:415:     @     0x56309b46602d ray::raylet::NodeManager::NodeRemoved()\n",
      "\u001b[2m\u001b[33m(raylet)\u001b[0m [2021-04-11 19:21:54,081 E 215778 215778] logging.cc:415:     @     0x56309b46602d ray::raylet::NodeManager::NodeRemoved()\n",
      "\u001b[2m\u001b[33m(raylet)\u001b[0m [2021-04-11 19:21:54,093 E 215778 215778] logging.cc:415:     @     0x56309b47c797 _ZNSt17_Function_handlerIFvRKN3ray6NodeIDERKNS0_3rpc11GcsNodeInfoEEZNS0_6raylet11NodeManager11RegisterGcsEvEUlS3_S7_E_E9_M_invokeERKSt9_Any_dataS3_S7_\n",
      "\u001b[2m\u001b[33m(raylet)\u001b[0m [2021-04-11 19:21:54,099 E 215778 215778] logging.cc:415:     @     0x56309b5a0669 ray::gcs::ServiceBasedNodeInfoAccessor::HandleNotification()\n",
      "\u001b[2m\u001b[33m(raylet)\u001b[0m [2021-04-11 19:21:54,102 E 215778 215778] logging.cc:415:     @     0x56309b5a0a95 _ZNSt17_Function_handlerIFvRKSsS1_EZZN3ray3gcs28ServiceBasedNodeInfoAccessor26AsyncSubscribeToNodeChangeERKSt8functionIFvRKNS3_6NodeIDERKNS3_3rpc11GcsNodeInfoEEERKS6_IFvNS3_6StatusEEEENKUlSM_E0_clESM_EUlS1_S1_E_E9_M_invokeERKSt9_Any_dataS1_S1_\n",
      "\u001b[2m\u001b[33m(raylet)\u001b[0m [2021-04-11 19:21:54,108 E 215778 215778] logging.cc:415:     @     0x56309b5ba382 _ZZN3ray3gcs9GcsPubSub24ExecuteCommandIfPossibleERKSsRNS1_7ChannelEENKUlSt10shared_ptrINS0_13CallbackReplyEEE_clES8_\n",
      "\u001b[2m\u001b[33m(raylet)\u001b[0m [2021-04-11 19:21:54,108 E 215778 215778] logging.cc:415:     @     0x56309b5bac35 _ZNSt17_Function_handlerIFvSt10shared_ptrIN3ray3gcs13CallbackReplyEEEZNS2_9GcsPubSub24ExecuteCommandIfPossibleERKSsRNS6_7ChannelEEUlS4_E_E9_M_invokeERKSt9_Any_dataOS4_\n",
      "\u001b[2m\u001b[33m(raylet)\u001b[0m [2021-04-11 19:21:54,116 E 215778 215778] logging.cc:415:     @     0x56309b5c11f7 _ZN5boost4asio6detail18completion_handlerIZN3ray3gcs20RedisCallbackManager12CallbackItem8DispatchERSt10shared_ptrINS4_13CallbackReplyEEEUlvE_E11do_completeEPvPNS1_19scheduler_operationERKNS_6system10error_codeEm\n",
      "\u001b[2m\u001b[33m(raylet)\u001b[0m [2021-04-11 19:21:54,093 E 215778 215778] logging.cc:415:     @     0x56309b47c797 _ZNSt17_Function_handlerIFvRKN3ray6NodeIDERKNS0_3rpc11GcsNodeInfoEEZNS0_6raylet11NodeManager11RegisterGcsEvEUlS3_S7_E_E9_M_invokeERKSt9_Any_dataS3_S7_\n",
      "\u001b[2m\u001b[33m(raylet)\u001b[0m [2021-04-11 19:21:54,099 E 215778 215778] logging.cc:415:     @     0x56309b5a0669 ray::gcs::ServiceBasedNodeInfoAccessor::HandleNotification()\n",
      "\u001b[2m\u001b[33m(raylet)\u001b[0m [2021-04-11 19:21:54,102 E 215778 215778] logging.cc:415:     @     0x56309b5a0a95 _ZNSt17_Function_handlerIFvRKSsS1_EZZN3ray3gcs28ServiceBasedNodeInfoAccessor26AsyncSubscribeToNodeChangeERKSt8functionIFvRKNS3_6NodeIDERKNS3_3rpc11GcsNodeInfoEEERKS6_IFvNS3_6StatusEEEENKUlSM_E0_clESM_EUlS1_S1_E_E9_M_invokeERKSt9_Any_dataS1_S1_\n",
      "\u001b[2m\u001b[33m(raylet)\u001b[0m [2021-04-11 19:21:54,108 E 215778 215778] logging.cc:415:     @     0x56309b5ba382 _ZZN3ray3gcs9GcsPubSub24ExecuteCommandIfPossibleERKSsRNS1_7ChannelEENKUlSt10shared_ptrINS0_13CallbackReplyEEE_clES8_\n",
      "\u001b[2m\u001b[33m(raylet)\u001b[0m [2021-04-11 19:21:54,108 E 215778 215778] logging.cc:415:     @     0x56309b5bac35 _ZNSt17_Function_handlerIFvSt10shared_ptrIN3ray3gcs13CallbackReplyEEEZNS2_9GcsPubSub24ExecuteCommandIfPossibleERKSsRNS6_7ChannelEEUlS4_E_E9_M_invokeERKSt9_Any_dataOS4_\n",
      "\u001b[2m\u001b[33m(raylet)\u001b[0m [2021-04-11 19:21:54,116 E 215778 215778] logging.cc:415:     @     0x56309b5c11f7 _ZN5boost4asio6detail18completion_handlerIZN3ray3gcs20RedisCallbackManager12CallbackItem8DispatchERSt10shared_ptrINS4_13CallbackReplyEEEUlvE_E11do_completeEPvPNS1_19scheduler_operationERKNS_6system10error_codeEm\n",
      "\u001b[2m\u001b[33m(raylet)\u001b[0m [2021-04-11 19:21:54,093 E 215778 215778] logging.cc:415:     @     0x56309b47c797 _ZNSt17_Function_handlerIFvRKN3ray6NodeIDERKNS0_3rpc11GcsNodeInfoEEZNS0_6raylet11NodeManager11RegisterGcsEvEUlS3_S7_E_E9_M_invokeERKSt9_Any_dataS3_S7_\n",
      "\u001b[2m\u001b[33m(raylet)\u001b[0m [2021-04-11 19:21:54,099 E 215778 215778] logging.cc:415:     @     0x56309b5a0669 ray::gcs::ServiceBasedNodeInfoAccessor::HandleNotification()\n",
      "\u001b[2m\u001b[33m(raylet)\u001b[0m [2021-04-11 19:21:54,102 E 215778 215778] logging.cc:415:     @     0x56309b5a0a95 _ZNSt17_Function_handlerIFvRKSsS1_EZZN3ray3gcs28ServiceBasedNodeInfoAccessor26AsyncSubscribeToNodeChangeERKSt8functionIFvRKNS3_6NodeIDERKNS3_3rpc11GcsNodeInfoEEERKS6_IFvNS3_6StatusEEEENKUlSM_E0_clESM_EUlS1_S1_E_E9_M_invokeERKSt9_Any_dataS1_S1_\n",
      "\u001b[2m\u001b[33m(raylet)\u001b[0m [2021-04-11 19:21:54,108 E 215778 215778] logging.cc:415:     @     0x56309b5ba382 _ZZN3ray3gcs9GcsPubSub24ExecuteCommandIfPossibleERKSsRNS1_7ChannelEENKUlSt10shared_ptrINS0_13CallbackReplyEEE_clES8_\n",
      "\u001b[2m\u001b[33m(raylet)\u001b[0m [2021-04-11 19:21:54,108 E 215778 215778] logging.cc:415:     @     0x56309b5bac35 _ZNSt17_Function_handlerIFvSt10shared_ptrIN3ray3gcs13CallbackReplyEEEZNS2_9GcsPubSub24ExecuteCommandIfPossibleERKSsRNS6_7ChannelEEUlS4_E_E9_M_invokeERKSt9_Any_dataOS4_\n",
      "\u001b[2m\u001b[33m(raylet)\u001b[0m [2021-04-11 19:21:54,116 E 215778 215778] logging.cc:415:     @     0x56309b5c11f7 _ZN5boost4asio6detail18completion_handlerIZN3ray3gcs20RedisCallbackManager12CallbackItem8DispatchERSt10shared_ptrINS4_13CallbackReplyEEEUlvE_E11do_completeEPvPNS1_19scheduler_operationERKNS_6system10error_codeEm\n",
      "\u001b[2m\u001b[33m(raylet)\u001b[0m [2021-04-11 19:21:54,093 E 215778 215778] logging.cc:415:     @     0x56309b47c797 _ZNSt17_Function_handlerIFvRKN3ray6NodeIDERKNS0_3rpc11GcsNodeInfoEEZNS0_6raylet11NodeManager11RegisterGcsEvEUlS3_S7_E_E9_M_invokeERKSt9_Any_dataS3_S7_\n",
      "\u001b[2m\u001b[33m(raylet)\u001b[0m [2021-04-11 19:21:54,099 E 215778 215778] logging.cc:415:     @     0x56309b5a0669 ray::gcs::ServiceBasedNodeInfoAccessor::HandleNotification()\n",
      "\u001b[2m\u001b[33m(raylet)\u001b[0m [2021-04-11 19:21:54,102 E 215778 215778] logging.cc:415:     @     0x56309b5a0a95 _ZNSt17_Function_handlerIFvRKSsS1_EZZN3ray3gcs28ServiceBasedNodeInfoAccessor26AsyncSubscribeToNodeChangeERKSt8functionIFvRKNS3_6NodeIDERKNS3_3rpc11GcsNodeInfoEEERKS6_IFvNS3_6StatusEEEENKUlSM_E0_clESM_EUlS1_S1_E_E9_M_invokeERKSt9_Any_dataS1_S1_\n",
      "\u001b[2m\u001b[33m(raylet)\u001b[0m [2021-04-11 19:21:54,108 E 215778 215778] logging.cc:415:     @     0x56309b5ba382 _ZZN3ray3gcs9GcsPubSub24ExecuteCommandIfPossibleERKSsRNS1_7ChannelEENKUlSt10shared_ptrINS0_13CallbackReplyEEE_clES8_\n",
      "\u001b[2m\u001b[33m(raylet)\u001b[0m [2021-04-11 19:21:54,108 E 215778 215778] logging.cc:415:     @     0x56309b5bac35 _ZNSt17_Function_handlerIFvSt10shared_ptrIN3ray3gcs13CallbackReplyEEEZNS2_9GcsPubSub24ExecuteCommandIfPossibleERKSsRNS6_7ChannelEEUlS4_E_E9_M_invokeERKSt9_Any_dataOS4_\n",
      "\u001b[2m\u001b[33m(raylet)\u001b[0m [2021-04-11 19:21:54,116 E 215778 215778] logging.cc:415:     @     0x56309b5c11f7 _ZN5boost4asio6detail18completion_handlerIZN3ray3gcs20RedisCallbackManager12CallbackItem8DispatchERSt10shared_ptrINS4_13CallbackReplyEEEUlvE_E11do_completeEPvPNS1_19scheduler_operationERKNS_6system10error_codeEm\n"
     ]
    },
    {
     "name": "stderr",
     "output_type": "stream",
     "text": [
      "\u001b[2m\u001b[33m(raylet)\u001b[0m [2021-04-11 19:21:54,147 E 215778 215778] logging.cc:415:     @     0x56309bb60301 boost::asio::detail::scheduler::do_run_one()\n",
      "\u001b[2m\u001b[33m(raylet)\u001b[0m [2021-04-11 19:21:54,151 E 215778 215778] logging.cc:415:     @     0x56309bb619a9 boost::asio::detail::scheduler::run()\n",
      "\u001b[2m\u001b[33m(raylet)\u001b[0m [2021-04-11 19:21:54,152 E 215778 215778] logging.cc:415:     @     0x56309bb63e97 boost::asio::io_context::run()\n",
      "\u001b[2m\u001b[33m(raylet)\u001b[0m [2021-04-11 19:21:54,154 E 215778 215778] logging.cc:415:     @     0x56309b3abce2 main\n",
      "\u001b[2m\u001b[33m(raylet)\u001b[0m [2021-04-11 19:21:54,155 E 215778 215778] logging.cc:415:     @     0x7f758abea0b3 __libc_start_main\n",
      "\u001b[2m\u001b[33m(raylet)\u001b[0m [2021-04-11 19:21:54,156 E 215778 215778] logging.cc:415:     @     0x56309b3c0da5 (unknown)\n",
      "\u001b[2m\u001b[33m(raylet)\u001b[0m [2021-04-11 19:21:54,147 E 215778 215778] logging.cc:415:     @     0x56309bb60301 boost::asio::detail::scheduler::do_run_one()\n",
      "\u001b[2m\u001b[33m(raylet)\u001b[0m [2021-04-11 19:21:54,151 E 215778 215778] logging.cc:415:     @     0x56309bb619a9 boost::asio::detail::scheduler::run()\n",
      "\u001b[2m\u001b[33m(raylet)\u001b[0m [2021-04-11 19:21:54,152 E 215778 215778] logging.cc:415:     @     0x56309bb63e97 boost::asio::io_context::run()\n",
      "\u001b[2m\u001b[33m(raylet)\u001b[0m [2021-04-11 19:21:54,154 E 215778 215778] logging.cc:415:     @     0x56309b3abce2 main\n",
      "\u001b[2m\u001b[33m(raylet)\u001b[0m [2021-04-11 19:21:54,155 E 215778 215778] logging.cc:415:     @     0x7f758abea0b3 __libc_start_main\n",
      "\u001b[2m\u001b[33m(raylet)\u001b[0m [2021-04-11 19:21:54,156 E 215778 215778] logging.cc:415:     @     0x56309b3c0da5 (unknown)\n",
      "\u001b[2m\u001b[33m(raylet)\u001b[0m [2021-04-11 19:21:54,147 E 215778 215778] logging.cc:415:     @     0x56309bb60301 boost::asio::detail::scheduler::do_run_one()\n",
      "\u001b[2m\u001b[33m(raylet)\u001b[0m [2021-04-11 19:21:54,151 E 215778 215778] logging.cc:415:     @     0x56309bb619a9 boost::asio::detail::scheduler::run()\n",
      "\u001b[2m\u001b[33m(raylet)\u001b[0m [2021-04-11 19:21:54,152 E 215778 215778] logging.cc:415:     @     0x56309bb63e97 boost::asio::io_context::run()\n",
      "\u001b[2m\u001b[33m(raylet)\u001b[0m [2021-04-11 19:21:54,154 E 215778 215778] logging.cc:415:     @     0x56309b3abce2 main\n",
      "\u001b[2m\u001b[33m(raylet)\u001b[0m [2021-04-11 19:21:54,155 E 215778 215778] logging.cc:415:     @     0x7f758abea0b3 __libc_start_main\n",
      "\u001b[2m\u001b[33m(raylet)\u001b[0m [2021-04-11 19:21:54,156 E 215778 215778] logging.cc:415:     @     0x56309b3c0da5 (unknown)\n",
      "\u001b[2m\u001b[33m(raylet)\u001b[0m [2021-04-11 19:21:54,147 E 215778 215778] logging.cc:415:     @     0x56309bb60301 boost::asio::detail::scheduler::do_run_one()\n",
      "\u001b[2m\u001b[33m(raylet)\u001b[0m [2021-04-11 19:21:54,151 E 215778 215778] logging.cc:415:     @     0x56309bb619a9 boost::asio::detail::scheduler::run()\n",
      "\u001b[2m\u001b[33m(raylet)\u001b[0m [2021-04-11 19:21:54,152 E 215778 215778] logging.cc:415:     @     0x56309bb63e97 boost::asio::io_context::run()\n",
      "\u001b[2m\u001b[33m(raylet)\u001b[0m [2021-04-11 19:21:54,154 E 215778 215778] logging.cc:415:     @     0x56309b3abce2 main\n",
      "\u001b[2m\u001b[33m(raylet)\u001b[0m [2021-04-11 19:21:54,155 E 215778 215778] logging.cc:415:     @     0x7f758abea0b3 __libc_start_main\n",
      "\u001b[2m\u001b[33m(raylet)\u001b[0m [2021-04-11 19:21:54,156 E 215778 215778] logging.cc:415:     @     0x56309b3c0da5 (unknown)\n"
     ]
    }
   ],
   "source": [
    "trainer = PPOTrainer(config=congigure, env= \"unity_env\")\n",
    "PATH_TO_CHECKPOINT_FILE = '/home/azibit/ray_results/PPO_unity_env_2021-04-09_02-16-38lwq8v0v4/checkpoint_3500/checkpoint-3500'\n",
    "# trainer.restore('/home/azibit/ray_results/PPO_unity_env_2021-04-08_16-48-575mk5ga4m/checkpoint_500/checkpoint-500')\n",
    "trainer.restore(PATH_TO_CHECKPOINT_FILE)"
   ]
  },
  {
   "cell_type": "code",
   "execution_count": 192,
   "metadata": {},
   "outputs": [
    {
     "data": {
      "text/plain": [
       "<ray.rllib.agents.trainer_template.PPO at 0x7f61503959d0>"
      ]
     },
     "execution_count": 192,
     "metadata": {},
     "output_type": "execute_result"
    }
   ],
   "source": [
    "trainer"
   ]
  },
  {
   "cell_type": "code",
   "execution_count": 196,
   "metadata": {},
   "outputs": [
    {
     "name": "stderr",
     "output_type": "stream",
     "text": [
      "INFO:mlagents_envs:Environment shut down with return code 0.\n"
     ]
    }
   ],
   "source": [
    "env.close()"
   ]
  },
  {
   "cell_type": "code",
   "execution_count": 193,
   "metadata": {
    "scrolled": true
   },
   "outputs": [
    {
     "name": "stderr",
     "output_type": "stream",
     "text": [
      "INFO:mlagents_envs:Connected to Unity environment with package version 0.15.0-preview and communication version 0.15.0\n",
      "INFO:mlagents_envs:Connected new brain:\n",
      "AnimalAI?team=0\n",
      "INFO:gym_unity:1 agents within environment.\n"
     ]
    }
   ],
   "source": [
    "## Trying to test the trained agent on an environment\n",
    "\n",
    "env = AnimalAIGym(\n",
    "            environment_filename = \"../examples/env/AnimalAI\",\n",
    "            worker_id = 705,\n",
    "            flatten_branched = True,\n",
    "            uint8_visual = True,\n",
    "            arenas_configurations = ArenaConfig('../competition_configurations/1-8-2.yml')\n",
    "#             arenas_configurations = ArenaConfig('../examples/configurations/curriculum/2.yml')\n",
    ")"
   ]
  },
  {
   "cell_type": "code",
   "execution_count": 56,
   "metadata": {
    "scrolled": true
   },
   "outputs": [
    {
     "data": {
      "text/plain": [
       "4000"
      ]
     },
     "execution_count": 56,
     "metadata": {},
     "output_type": "execute_result"
    }
   ],
   "source": [
    "ray.rllib.agents.ppo.DEFAULT_CONFIG[\"train_batch_size\"]"
   ]
  },
  {
   "cell_type": "code",
   "execution_count": 194,
   "metadata": {},
   "outputs": [],
   "source": [
    "# run for number of steps\n",
    "state = trainer.get_policy().model.get_initial_state()\n",
    "\n",
    "\n",
    "# print(obs.shape)\n",
    "timesteps_to_run = 6000\n",
    "timesteps_passed = 0\n",
    "episode_rewards = []\n",
    "while timesteps_passed < timesteps_to_run:\n",
    "    obs = env.reset()\n",
    "    episode_reward = 0\n",
    "    done = False\n",
    "    while not done:\n",
    "        action = trainer.compute_action(obs, state)\n",
    "        action, state = action[0], action[1]\n",
    "#         print(\"ACTION: \", action)\n",
    "        obs, reward, done, info = env.step(action)\n",
    "\n",
    "#         print(\"REWARD: \", reward)\n",
    "        episode_reward += reward\n",
    "        timesteps_passed += 1\n",
    "#     print('Episode reward:', episode_reward)\n",
    "    episode_rewards.append(episode_reward)\n"
   ]
  },
  {
   "cell_type": "code",
   "execution_count": 195,
   "metadata": {
    "scrolled": false
   },
   "outputs": [
    {
     "name": "stdout",
     "output_type": "stream",
     "text": [
      "Episodes ran: 29 Mean episodic reward: -0.6642643063939337\n",
      "Episodes with success:  5\n"
     ]
    }
   ],
   "source": [
    "print('Episodes ran:', len(episode_rewards), 'Mean episodic reward:', np.mean(episode_rewards))\n",
    "j2 = [i for i in episode_rewards if i >= 0]\n",
    "print(\"Episodes with success: \", len(j2))"
   ]
  },
  {
   "cell_type": "code",
   "execution_count": 184,
   "metadata": {
    "scrolled": false
   },
   "outputs": [
    {
     "name": "stderr",
     "output_type": "stream",
     "text": [
      "INFO:mlagents_envs:Environment shut down with return code 0.\n"
     ]
    }
   ],
   "source": [
    "env.close()"
   ]
  },
  {
   "cell_type": "code",
   "execution_count": 25,
   "metadata": {},
   "outputs": [
    {
     "data": {
      "text/plain": [
       "2"
      ]
     },
     "execution_count": 25,
     "metadata": {},
     "output_type": "execute_result"
    }
   ],
   "source": []
  },
  {
   "cell_type": "code",
   "execution_count": null,
   "metadata": {},
   "outputs": [],
   "source": [
    "## Trying to automate something"
   ]
  }
 ],
 "metadata": {
  "kernelspec": {
   "display_name": "Python 3",
   "language": "python",
   "name": "python3"
  },
  "language_info": {
   "codemirror_mode": {
    "name": "ipython",
    "version": 3
   },
   "file_extension": ".py",
   "mimetype": "text/x-python",
   "name": "python",
   "nbconvert_exporter": "python",
   "pygments_lexer": "ipython3",
   "version": "3.7.6"
  }
 },
 "nbformat": 4,
 "nbformat_minor": 4
}
